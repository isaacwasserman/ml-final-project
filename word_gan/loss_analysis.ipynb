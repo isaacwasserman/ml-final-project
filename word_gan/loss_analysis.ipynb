{
 "cells": [
  {
   "cell_type": "code",
   "execution_count": 1,
   "metadata": {},
   "outputs": [],
   "source": [
    "import numpy as np\n",
    "import pandas as pd\n",
    "import matplotlib.pyplot as plt\n",
    "import seaborn as sns\n",
    "import pickle\n",
    "import math"
   ]
  },
  {
   "cell_type": "code",
   "execution_count": null,
   "metadata": {},
   "outputs": [],
   "source": []
  },
  {
   "cell_type": "code",
   "execution_count": 4,
   "metadata": {},
   "outputs": [],
   "source": [
    "languages = ['azeri','bengali','crimean-tatar','karelian','kashubian','livonian','maltese','middle-high-german','north-frisian','occitan','old-church-slavonic','pashto','tatar']\n",
    "training_history = {}\n",
    "for language in languages:\n",
    "    training_history[language] = pd.read_csv(f'{language}_gan_history.csv').set_index(\"Unnamed: 0\")\n",
    "\n",
    "# Spiky generator loss: azeri, bengali, crimean-tatar, maltese\n",
    "# Spiky (-1,1) discriminator loss: north-frisian, occitan, livonian, old church slavonic, pashto, tatar\n",
    "# Spiky (-1,0) discriminator loss: azeri, bengali, crimean-tatar, maltese"
   ]
  },
  {
   "cell_type": "code",
   "execution_count": 93,
   "metadata": {},
   "outputs": [
    {
     "data": {
      "text/plain": [
       "<Figure size 432x288 with 0 Axes>"
      ]
     },
     "metadata": {},
     "output_type": "display_data"
    }
   ],
   "source": [
    "for language in languages:\n",
    "    df = training_history[language].drop(columns=[\"gan_accuracy\",\"discriminator_accuracy\",\"generated_sequences\"]).reset_index().melt('Unnamed: 0', var_name='cols',  value_name='vals')\n",
    "    sns.set_style(\"ticks\")\n",
    "    g = sns.lineplot(x=\"Unnamed: 0\", y=\"vals\", hue='cols', data=df)\n",
    "    g.set_xlabel(\"Epoch\")\n",
    "    g.set_ylabel(\"Wasserstein Loss\")\n",
    "    g.set_title(f'{language.replace(\"-\",\" \").title()} Loss')\n",
    "    g.legend(labels=[\"Discriminator Loss\", \"Generator Loss\"], loc=\"upper right\")\n",
    "    plt.tight_layout()\n",
    "    plt.savefig(f'../tex/loss_plots/{language}.pdf')\n",
    "    plt.clf()"
   ]
  },
  {
   "cell_type": "code",
   "execution_count": null,
   "metadata": {},
   "outputs": [],
   "source": []
  }
 ],
 "metadata": {
  "interpreter": {
   "hash": "b9df139cf4fd7fbfed7596b00795d916641fdf384a73a205999ad45fcffc5436"
  },
  "kernelspec": {
   "display_name": "Python 3.9.7 ('base')",
   "language": "python",
   "name": "python3"
  },
  "language_info": {
   "codemirror_mode": {
    "name": "ipython",
    "version": 3
   },
   "file_extension": ".py",
   "mimetype": "text/x-python",
   "name": "python",
   "nbconvert_exporter": "python",
   "pygments_lexer": "ipython3",
   "version": "3.9.7"
  },
  "orig_nbformat": 4
 },
 "nbformat": 4,
 "nbformat_minor": 2
}
